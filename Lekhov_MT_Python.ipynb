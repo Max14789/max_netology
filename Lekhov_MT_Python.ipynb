{
 "cells": [
  {
   "cell_type": "markdown",
   "id": "2dfaa359",
   "metadata": {},
   "source": [
    "# Дипломная работа\n",
    "\n",
    "## Список заданий\n",
    "\n",
    "1. Загрузите файл HR.csv в pandas dataframe\n",
    "2. Рассчитайте основные статистики для переменных (среднее,медиана,мода,мин/макс,сред.отклонение)\n",
    "3. Рассчитайте и визуализировать корреляционную матрицу для количественных переменных. \n",
    "Определите две самые скоррелированные и две наименее скоррелированные переменные.\n",
    "4. Рассчитайте сколько сотрудников работает в каждом департаменте.\n",
    "5. Показать распределение сотрудников по зарплатам.\n",
    "6. Показать распределение сотрудников по зарплатам в каждом департаменте по отдельности.\n",
    "7. Проверить гипотезу, что сотрудники с высоким окладом проводят на работе больше времени, чем сотрудники с низким\n",
    "окладом.\n",
    "8. Рассчитать следующие показатели среди уволившихся и не уволившихся сотрудников (по отдельности):\n",
    "- Доля сотрудников с повышением за последние 5 лет\n",
    "- Средняя степень удовлетворенности\n",
    "- Среднее количество проектов\n",
    "9. Разделить данные на тестовую и обучающую выборки Построить модель LDA, предсказывающую уволился ли сотрудник на основе \n",
    "имеющихся факторов (кроме department и salary). Оценить качество модели на тестовой выборки.\n",
    "10. Загрузить jupyter notebook с решение на github и прислать ссылку\n",
    "\n",
    "## Список полей\n",
    "\n",
    "1. satisfaction_level - Уровень удовлетворенности работой\n",
    "2. Last_evaluation - Время с момента последней оценки в годах\n",
    "3. number_projects - Количество проектов, выполненных за время работы\n",
    "4. average_monthly_hours - Среднее количество часов на рабочем месте в месяц\n",
    "5. time_spend_company - Стаж работы в компании в годах\n",
    "6. work_accident - Происходили ли несчастные случаи на рабочем месте с сотрудником\n",
    "7. left - уволился ли сотрудник\n",
    "8. promotion_last_5years - повышался ли сотрудник за последние пять лет\n",
    "9. department - отдел в котором работает сотрудник\n",
    "10. salary - относительный уровень зарплаты"
   ]
  },
  {
   "cell_type": "code",
   "execution_count": 2,
   "id": "00ace025",
   "metadata": {},
   "outputs": [],
   "source": [
    "# импортируем необходимые модули\n",
    "\n",
    "\n",
    "import pandas as pd\n",
    "import numpy as np\n",
    "import seaborn as sns\n",
    "import matplotlib.pyplot as plt\n",
    "from pylab import rcParams\n",
    "from scipy import stats\n",
    "from sklearn.discriminant_analysis import LinearDiscriminantAnalysis\n",
    "from sklearn.model_selection import train_test_split\n",
    "from sklearn.metrics import accuracy_score\n",
    "from sklearn.preprocessing import StandardScaler\n",
    "from sklearn.preprocessing import MinMaxScaler\n",
    "from sklearn.model_selection import RepeatedStratifiedKFold\n",
    "from sklearn.model_selection import cross_val_score"
   ]
  },
  {
   "cell_type": "code",
   "execution_count": 3,
   "id": "d8403fda",
   "metadata": {},
   "outputs": [
    {
     "data": {
      "text/html": [
       "<div>\n",
       "<style scoped>\n",
       "    .dataframe tbody tr th:only-of-type {\n",
       "        vertical-align: middle;\n",
       "    }\n",
       "\n",
       "    .dataframe tbody tr th {\n",
       "        vertical-align: top;\n",
       "    }\n",
       "\n",
       "    .dataframe thead th {\n",
       "        text-align: right;\n",
       "    }\n",
       "</style>\n",
       "<table border=\"1\" class=\"dataframe\">\n",
       "  <thead>\n",
       "    <tr style=\"text-align: right;\">\n",
       "      <th></th>\n",
       "      <th>satisfaction_level</th>\n",
       "      <th>last_evaluation</th>\n",
       "      <th>number_project</th>\n",
       "      <th>average_montly_hours</th>\n",
       "      <th>time_spend_company</th>\n",
       "      <th>Work_accident</th>\n",
       "      <th>left</th>\n",
       "      <th>promotion_last_5years</th>\n",
       "      <th>department</th>\n",
       "      <th>salary</th>\n",
       "    </tr>\n",
       "  </thead>\n",
       "  <tbody>\n",
       "    <tr>\n",
       "      <th>0</th>\n",
       "      <td>0.38</td>\n",
       "      <td>0.53</td>\n",
       "      <td>2</td>\n",
       "      <td>157</td>\n",
       "      <td>3</td>\n",
       "      <td>0</td>\n",
       "      <td>1</td>\n",
       "      <td>0</td>\n",
       "      <td>sales</td>\n",
       "      <td>low</td>\n",
       "    </tr>\n",
       "    <tr>\n",
       "      <th>1</th>\n",
       "      <td>0.80</td>\n",
       "      <td>0.86</td>\n",
       "      <td>5</td>\n",
       "      <td>262</td>\n",
       "      <td>6</td>\n",
       "      <td>0</td>\n",
       "      <td>1</td>\n",
       "      <td>0</td>\n",
       "      <td>sales</td>\n",
       "      <td>medium</td>\n",
       "    </tr>\n",
       "    <tr>\n",
       "      <th>2</th>\n",
       "      <td>0.11</td>\n",
       "      <td>0.88</td>\n",
       "      <td>7</td>\n",
       "      <td>272</td>\n",
       "      <td>4</td>\n",
       "      <td>0</td>\n",
       "      <td>1</td>\n",
       "      <td>0</td>\n",
       "      <td>sales</td>\n",
       "      <td>medium</td>\n",
       "    </tr>\n",
       "    <tr>\n",
       "      <th>3</th>\n",
       "      <td>0.72</td>\n",
       "      <td>0.87</td>\n",
       "      <td>5</td>\n",
       "      <td>223</td>\n",
       "      <td>5</td>\n",
       "      <td>0</td>\n",
       "      <td>1</td>\n",
       "      <td>0</td>\n",
       "      <td>sales</td>\n",
       "      <td>low</td>\n",
       "    </tr>\n",
       "    <tr>\n",
       "      <th>4</th>\n",
       "      <td>0.37</td>\n",
       "      <td>0.52</td>\n",
       "      <td>2</td>\n",
       "      <td>159</td>\n",
       "      <td>3</td>\n",
       "      <td>0</td>\n",
       "      <td>1</td>\n",
       "      <td>0</td>\n",
       "      <td>sales</td>\n",
       "      <td>low</td>\n",
       "    </tr>\n",
       "  </tbody>\n",
       "</table>\n",
       "</div>"
      ],
      "text/plain": [
       "   satisfaction_level  last_evaluation  number_project  average_montly_hours  \\\n",
       "0                0.38             0.53               2                   157   \n",
       "1                0.80             0.86               5                   262   \n",
       "2                0.11             0.88               7                   272   \n",
       "3                0.72             0.87               5                   223   \n",
       "4                0.37             0.52               2                   159   \n",
       "\n",
       "   time_spend_company  Work_accident  left  promotion_last_5years department  \\\n",
       "0                   3              0     1                      0      sales   \n",
       "1                   6              0     1                      0      sales   \n",
       "2                   4              0     1                      0      sales   \n",
       "3                   5              0     1                      0      sales   \n",
       "4                   3              0     1                      0      sales   \n",
       "\n",
       "   salary  \n",
       "0     low  \n",
       "1  medium  \n",
       "2  medium  \n",
       "3     low  \n",
       "4     low  "
      ]
     },
     "execution_count": 3,
     "metadata": {},
     "output_type": "execute_result"
    }
   ],
   "source": [
    "# Дипломная работа Задание 1\n",
    "\"\"\"\n",
    "1. Загрузите файл HR.csv в pandas dataframe\n",
    "\n",
    "\"\"\"\n",
    "url=\"https://drive.google.com/file/d/1INgo03nal-vwFJe7Lec5vOUtOwfJdUr1/view?usp=sharing\"\n",
    "url=\"https://drive.google.com/uc?id=\" + url.split('/')[-2]\n",
    "data = pd.read_csv(url)\n",
    "data.head()"
   ]
  },
  {
   "cell_type": "code",
   "execution_count": 4,
   "id": "88a52f92",
   "metadata": {},
   "outputs": [
    {
     "data": {
      "text/html": [
       "<div>\n",
       "<style scoped>\n",
       "    .dataframe tbody tr th:only-of-type {\n",
       "        vertical-align: middle;\n",
       "    }\n",
       "\n",
       "    .dataframe tbody tr th {\n",
       "        vertical-align: top;\n",
       "    }\n",
       "\n",
       "    .dataframe thead th {\n",
       "        text-align: right;\n",
       "    }\n",
       "</style>\n",
       "<table border=\"1\" class=\"dataframe\">\n",
       "  <thead>\n",
       "    <tr style=\"text-align: right;\">\n",
       "      <th></th>\n",
       "      <th>satisfaction_level</th>\n",
       "      <th>last_evaluation</th>\n",
       "      <th>number_project</th>\n",
       "      <th>average_monthly_hours</th>\n",
       "      <th>time_spend_company</th>\n",
       "    </tr>\n",
       "  </thead>\n",
       "  <tbody>\n",
       "    <tr>\n",
       "      <th>count</th>\n",
       "      <td>14999.000000</td>\n",
       "      <td>14999.000000</td>\n",
       "      <td>14999.000000</td>\n",
       "      <td>14999.000000</td>\n",
       "      <td>14999.000000</td>\n",
       "    </tr>\n",
       "    <tr>\n",
       "      <th>mean</th>\n",
       "      <td>0.612834</td>\n",
       "      <td>0.716102</td>\n",
       "      <td>3.803054</td>\n",
       "      <td>201.050337</td>\n",
       "      <td>3.498233</td>\n",
       "    </tr>\n",
       "    <tr>\n",
       "      <th>std</th>\n",
       "      <td>0.248631</td>\n",
       "      <td>0.171169</td>\n",
       "      <td>1.232592</td>\n",
       "      <td>49.943099</td>\n",
       "      <td>1.460136</td>\n",
       "    </tr>\n",
       "    <tr>\n",
       "      <th>min</th>\n",
       "      <td>0.090000</td>\n",
       "      <td>0.360000</td>\n",
       "      <td>2.000000</td>\n",
       "      <td>96.000000</td>\n",
       "      <td>2.000000</td>\n",
       "    </tr>\n",
       "    <tr>\n",
       "      <th>25%</th>\n",
       "      <td>0.440000</td>\n",
       "      <td>0.560000</td>\n",
       "      <td>3.000000</td>\n",
       "      <td>156.000000</td>\n",
       "      <td>3.000000</td>\n",
       "    </tr>\n",
       "    <tr>\n",
       "      <th>50%</th>\n",
       "      <td>0.640000</td>\n",
       "      <td>0.720000</td>\n",
       "      <td>4.000000</td>\n",
       "      <td>200.000000</td>\n",
       "      <td>3.000000</td>\n",
       "    </tr>\n",
       "    <tr>\n",
       "      <th>75%</th>\n",
       "      <td>0.820000</td>\n",
       "      <td>0.870000</td>\n",
       "      <td>5.000000</td>\n",
       "      <td>245.000000</td>\n",
       "      <td>4.000000</td>\n",
       "    </tr>\n",
       "    <tr>\n",
       "      <th>max</th>\n",
       "      <td>1.000000</td>\n",
       "      <td>1.000000</td>\n",
       "      <td>7.000000</td>\n",
       "      <td>310.000000</td>\n",
       "      <td>10.000000</td>\n",
       "    </tr>\n",
       "  </tbody>\n",
       "</table>\n",
       "</div>"
      ],
      "text/plain": [
       "       satisfaction_level  last_evaluation  number_project  \\\n",
       "count        14999.000000     14999.000000    14999.000000   \n",
       "mean             0.612834         0.716102        3.803054   \n",
       "std              0.248631         0.171169        1.232592   \n",
       "min              0.090000         0.360000        2.000000   \n",
       "25%              0.440000         0.560000        3.000000   \n",
       "50%              0.640000         0.720000        4.000000   \n",
       "75%              0.820000         0.870000        5.000000   \n",
       "max              1.000000         1.000000        7.000000   \n",
       "\n",
       "       average_monthly_hours  time_spend_company  \n",
       "count           14999.000000        14999.000000  \n",
       "mean              201.050337            3.498233  \n",
       "std                49.943099            1.460136  \n",
       "min                96.000000            2.000000  \n",
       "25%               156.000000            3.000000  \n",
       "50%               200.000000            3.000000  \n",
       "75%               245.000000            4.000000  \n",
       "max               310.000000           10.000000  "
      ]
     },
     "execution_count": 4,
     "metadata": {},
     "output_type": "execute_result"
    }
   ],
   "source": [
    "# Дипломная работа Задание 2\n",
    "\"\"\"\n",
    "2. Рассчитайте основные статистики для переменных (среднее,медиана,мода,мин/макс,сред.отклонение)\n",
    "\"\"\"\n",
    "data = data.rename(columns = {\"average_montly_hours\": \"average_monthly_hours\"})  # переименовал, чтобы корректно называлось\n",
    "data[[\"satisfaction_level\", \"last_evaluation\", \"number_project\", \"average_monthly_hours\", \"time_spend_company\"]].describe()\n",
    "# базовые статистики по числовым столбцам"
   ]
  },
  {
   "cell_type": "code",
   "execution_count": 5,
   "id": "9220cd4a",
   "metadata": {},
   "outputs": [
    {
     "name": "stdout",
     "output_type": "stream",
     "text": [
      "0    12830\n",
      "1     2169\n",
      "Name: Work_accident, dtype: int64\n",
      "0    11428\n",
      "1     3571\n",
      "Name: left, dtype: int64\n",
      "0    14680\n",
      "1      319\n",
      "Name: promotion_last_5years, dtype: int64\n",
      "sales          4140\n",
      "technical      2720\n",
      "support        2229\n",
      "IT             1227\n",
      "product_mng     902\n",
      "marketing       858\n",
      "RandD           787\n",
      "accounting      767\n",
      "hr              739\n",
      "management      630\n",
      "Name: department, dtype: int64\n",
      "low       7316\n",
      "medium    6446\n",
      "high      1237\n",
      "Name: salary, dtype: int64\n"
     ]
    }
   ],
   "source": [
    "# посмотрим на распределение в столбцах, которые содержат категориальные данные, пусть и выраженные числами.\n",
    "\n",
    "print(data[\"Work_accident\"].value_counts())\n",
    "print(data[\"left\"].value_counts())\n",
    "print(data[\"promotion_last_5years\"].value_counts())\n",
    "print(data[\"department\"].value_counts())\n",
    "print(data[\"salary\"].value_counts())"
   ]
  },
  {
   "cell_type": "code",
   "execution_count": 6,
   "id": "8811f938",
   "metadata": {},
   "outputs": [
    {
     "data": {
      "text/html": [
       "<div>\n",
       "<style scoped>\n",
       "    .dataframe tbody tr th:only-of-type {\n",
       "        vertical-align: middle;\n",
       "    }\n",
       "\n",
       "    .dataframe tbody tr th {\n",
       "        vertical-align: top;\n",
       "    }\n",
       "\n",
       "    .dataframe thead th {\n",
       "        text-align: right;\n",
       "    }\n",
       "</style>\n",
       "<table border=\"1\" class=\"dataframe\">\n",
       "  <thead>\n",
       "    <tr style=\"text-align: right;\">\n",
       "      <th></th>\n",
       "      <th>satisfaction_level</th>\n",
       "      <th>last_evaluation</th>\n",
       "      <th>number_project</th>\n",
       "      <th>average_monthly_hours</th>\n",
       "      <th>time_spend_company</th>\n",
       "    </tr>\n",
       "  </thead>\n",
       "  <tbody>\n",
       "    <tr>\n",
       "      <th>satisfaction_level</th>\n",
       "      <td>1.000000</td>\n",
       "      <td>0.105021</td>\n",
       "      <td>-0.142970</td>\n",
       "      <td>-0.020048</td>\n",
       "      <td>-0.100866</td>\n",
       "    </tr>\n",
       "    <tr>\n",
       "      <th>last_evaluation</th>\n",
       "      <td>0.105021</td>\n",
       "      <td>1.000000</td>\n",
       "      <td>0.349333</td>\n",
       "      <td>0.339742</td>\n",
       "      <td>0.131591</td>\n",
       "    </tr>\n",
       "    <tr>\n",
       "      <th>number_project</th>\n",
       "      <td>-0.142970</td>\n",
       "      <td>0.349333</td>\n",
       "      <td>1.000000</td>\n",
       "      <td>0.417211</td>\n",
       "      <td>0.196786</td>\n",
       "    </tr>\n",
       "    <tr>\n",
       "      <th>average_monthly_hours</th>\n",
       "      <td>-0.020048</td>\n",
       "      <td>0.339742</td>\n",
       "      <td>0.417211</td>\n",
       "      <td>1.000000</td>\n",
       "      <td>0.127755</td>\n",
       "    </tr>\n",
       "    <tr>\n",
       "      <th>time_spend_company</th>\n",
       "      <td>-0.100866</td>\n",
       "      <td>0.131591</td>\n",
       "      <td>0.196786</td>\n",
       "      <td>0.127755</td>\n",
       "      <td>1.000000</td>\n",
       "    </tr>\n",
       "  </tbody>\n",
       "</table>\n",
       "</div>"
      ],
      "text/plain": [
       "                       satisfaction_level  last_evaluation  number_project  \\\n",
       "satisfaction_level               1.000000         0.105021       -0.142970   \n",
       "last_evaluation                  0.105021         1.000000        0.349333   \n",
       "number_project                  -0.142970         0.349333        1.000000   \n",
       "average_monthly_hours           -0.020048         0.339742        0.417211   \n",
       "time_spend_company              -0.100866         0.131591        0.196786   \n",
       "\n",
       "                       average_monthly_hours  time_spend_company  \n",
       "satisfaction_level                 -0.020048           -0.100866  \n",
       "last_evaluation                     0.339742            0.131591  \n",
       "number_project                      0.417211            0.196786  \n",
       "average_monthly_hours               1.000000            0.127755  \n",
       "time_spend_company                  0.127755            1.000000  "
      ]
     },
     "execution_count": 6,
     "metadata": {},
     "output_type": "execute_result"
    }
   ],
   "source": [
    "# Дипломная работа Задание 3\n",
    "\"\"\"\n",
    "Рассчитайте и визуализировать корреляционную матрицу для количественных переменных. \n",
    "Определите две самые скоррелированные и две наименее скоррелированные переменные.\n",
    "\"\"\"\n",
    "\n",
    "rcParams['figure.figsize'] = 11,7\n",
    "# рассчитаем коэффициенты корреляции по количественным переменным\n",
    "data[[\"satisfaction_level\", \"last_evaluation\", \"number_project\", \"average_monthly_hours\", \"time_spend_company\"]].corr()"
   ]
  },
  {
   "cell_type": "code",
   "execution_count": 7,
   "id": "df510c45",
   "metadata": {},
   "outputs": [
    {
     "data": {
      "text/plain": [
       "<AxesSubplot:>"
      ]
     },
     "execution_count": 7,
     "metadata": {},
     "output_type": "execute_result"
    },
    {
     "data": {
      "image/png": "[encoded data removed]",
      "text/plain": [
       "<Figure size 792x504 with 2 Axes>"
      ]
     },
     "metadata": {
      "needs_background": "light"
     },
     "output_type": "display_data"
    }
   ],
   "source": [
    "# используя тепловую карту, построим визуализацию корреляции\n",
    "sns.heatmap(data[[\"satisfaction_level\", \"last_evaluation\", \"number_project\", \"average_monthly_hours\", \"time_spend_company\"]].corr(),\n",
    "            annot=True)\n",
    "\n",
    "# 2 наиболее скоррелированные переменные - average_monthly_hours и number_project\n",
    "# 2 наименее скоррелированные переменные - average_monthly_hours и satisfaction_level, коэффициент корреляции наиболее \n",
    "# близок к нулю."
   ]
  },
  {
   "cell_type": "code",
   "execution_count": 8,
   "id": "0158fcf4",
   "metadata": {},
   "outputs": [
    {
     "data": {
      "text/plain": [
       "sales          4140\n",
       "technical      2720\n",
       "support        2229\n",
       "IT             1227\n",
       "product_mng     902\n",
       "marketing       858\n",
       "RandD           787\n",
       "accounting      767\n",
       "hr              739\n",
       "management      630\n",
       "Name: department, dtype: int64"
      ]
     },
     "execution_count": 8,
     "metadata": {},
     "output_type": "execute_result"
    }
   ],
   "source": [
    "# Дипломная работа Задание 4\n",
    "\"\"\"\n",
    "Рассчитайте сколько сотрудников работает в каждом департаменте.\n",
    "\"\"\"\n",
    "data.department.value_counts()"
   ]
  },
  {
   "cell_type": "code",
   "execution_count": 9,
   "id": "a80b1bd9",
   "metadata": {},
   "outputs": [
    {
     "data": {
      "text/plain": [
       "Text(0.5, 1.0, 'Распределение сотрудников по уровню зарплаты')"
      ]
     },
     "execution_count": 9,
     "metadata": {},
     "output_type": "execute_result"
    },
    {
     "data": {
      "image/png": "[encoded data removed]",
      "text/plain": [
       "<Figure size 792x504 with 1 Axes>"
      ]
     },
     "metadata": {
      "needs_background": "light"
     },
     "output_type": "display_data"
    }
   ],
   "source": [
    "# Дипломная работа Задание 5\n",
    "\"\"\"\n",
    "Показать распределение сотрудников по зарплатам.\n",
    "\"\"\"\n",
    "# построим гистограмму распределения сотрудников по заработной плате\n",
    "sns.histplot(data=data, x=data.salary, hue='salary')\n",
    "plt.title(\"Распределение сотрудников по уровню зарплаты\")"
   ]
  },
  {
   "cell_type": "code",
   "execution_count": 10,
   "id": "8f919f38",
   "metadata": {},
   "outputs": [
    {
     "data": {
      "image/png": "[encoded data removed]",
      "text/plain": [
       "<Figure size 792x504 with 1 Axes>"
      ]
     },
     "metadata": {
      "needs_background": "light"
     },
     "output_type": "display_data"
    }
   ],
   "source": [
    "# Дипломная работа Задание 6\n",
    "\"\"\"\n",
    "Показать распределение сотрудников по зарплатам в каждом департаменте по отдельности.\n",
    "\"\"\"\n",
    "# группируем по департаменту и зарплате, подситываем количество значений, строим график с накоплением\n",
    "data.groupby(\"department\")[\"salary\"].value_counts().unstack(level=1).plot(kind=\"bar\", stacked=True)\n",
    "plt.title(\"Распределение сотрудников по зарплатам в каждом департаменте\")\n",
    "plt.xticks(rotation=0)\n",
    "plt.xlabel(\"Department\", color=\"red\")\n",
    "plt.ylabel(\"Number of employees\", color=\"red\")\n",
    "plt.show()"
   ]
  },
  {
   "cell_type": "code",
   "execution_count": 13,
   "id": "68cd78b7",
   "metadata": {},
   "outputs": [
    {
     "name": "stdout",
     "output_type": "stream",
     "text": [
      "p-value res_high: 5.605393417902312e-15\n",
      "p-value res_low: 7.019524397342306e-41\n",
      "Значение t-теста Стьюдента 0.4661023478267259\n"
     ]
    },
    {
     "data": {
      "image/png": "[encoded data removed]",
      "text/plain": [
       "<Figure size 792x504 with 1 Axes>"
      ]
     },
     "metadata": {
      "needs_background": "light"
     },
     "output_type": "display_data"
    }
   ],
   "source": [
    "# Дипломная работа Задание 7\n",
    "\"\"\"\n",
    "Проверить гипотезу, что сотрудники с высоким окладом проводят на работе больше времени, чем сотрудники с низким\n",
    "окладом.\n",
    "\"\"\"\n",
    "\n",
    "# сформулируем гипотезы\n",
    "# нулевая гипотеза - проведенное на работе время не зависит от уровня заработной платы (при низкой и высокой не отличается)\n",
    "# альтернативная гипотеза - проведенное на работе время зависит от уровня заработной платы\n",
    "\n",
    "# выберем 2 датасета, один - часы на работе с высокой зарплатой, другой с низкой\n",
    "hypo_high = data[\"average_monthly_hours\"][data.salary == \"high\"]\n",
    "hypo_low = data[\"average_monthly_hours\"][data.salary == \"low\"]\n",
    "\n",
    "# построим 2 гистограммы распределения частоты проведенных часов на работе для выборок с высокой и низкой зарплатой\n",
    "def two_histograms(x, y):\n",
    "    \"\"\"\n",
    "    Функция, которая построит две гистограммы на одной картинке.\n",
    "    Дополнительно пунктирными линиями указываются средние значения выборок.\n",
    "    x: вектор pd.Series,\n",
    "    y: вектор pd.Series\n",
    "    \"\"\"\n",
    "    # alpha - прозрачность, weights - позволяет задать веса, по которым мы строим гистограмму.\n",
    "    x.hist(alpha=0.5, weights=[1./len(x)]*len(x), bins=20)  \n",
    "    y.hist(alpha=0.5, weights=[1./len(y)]*len(y), bins=20)\n",
    "    plt.axvline(x.mean(), color='red', alpha=0.8, linestyle='dashed')\n",
    "    plt.axvline(y.mean(), color='blue', alpha=0.8, linestyle='dashed')\n",
    "    plt.legend([x.name, y.name])\n",
    "\n",
    "two_histograms(hypo_high, hypo_low)\n",
    "# графически видим, что среднее значение у обеих выборок практически одинаковое, выбросов ни в одной, \n",
    "# ни в другой выборке не видно, однако данные не распределены нормально\n",
    " \n",
    "\n",
    "# дополнительно проверим нормальность распределения данных критерием Шапиро-Уилка\n",
    "\n",
    "res_high = stats.shapiro(x[\"average_monthly_hours\"])\n",
    "print(\"p-value res_high: {0}\".format(res_high[1]))\n",
    "res_low = stats.shapiro(y[\"average_monthly_hours\"])\n",
    "print(\"p-value res_low: {0}\".format(res_low[1]))\n",
    "# получаем очень маленькие p-value, делаем вывод распределение нормальное, и возможности использования t-теста Стьюдента\n",
    "\n",
    "t, p_value = stats.ttest_ind(hypo_high, hypo_low)\n",
    "print(\"Значение t-теста Стьюдента \" + str(p_value))\n",
    "# поскольку значение p-value больше заданного уровня, нулевую гипотезу не отвергаем"
   ]
  },
  {
   "cell_type": "code",
   "execution_count": 14,
   "id": "41d6b536",
   "metadata": {},
   "outputs": [
    {
     "data": {
      "image/png": "[encoded data removed]",
      "text/plain": [
       "<Figure size 792x504 with 1 Axes>"
      ]
     },
     "metadata": {
      "needs_background": "light"
     },
     "output_type": "display_data"
    }
   ],
   "source": [
    "# построим boxplot, видим также, что оба набора данных не отличаются.\n",
    "plt.boxplot([hypo_high, hypo_low])\n",
    "plt.show()"
   ]
  },
  {
   "cell_type": "code",
   "execution_count": 15,
   "id": "bba8501e",
   "metadata": {},
   "outputs": [],
   "source": [
    "# попробуем сделать то же самое через бутстреп\n",
    "\n",
    "boot_high, boot_low = [], []\n",
    "np.random.seed(12345)\n",
    "for _ in range(1000):\n",
    "    # случайно выдёргиваем точки из hypo_high и hypo_low\n",
    "    subsample_high = np.random.choice(hypo_high, size=25, replace=True) \n",
    "    subsample_low = np.random.choice(hypo_low, size=25, replace=True)\n",
    "    # собраем статистики средних \n",
    "    boot_high.append(subsample_high.mean())\n",
    "    boot_low.append(subsample_low.mean())\n",
    "boot_high = pd.Series(boot_high, name='boot_high')\n",
    "boot_low = pd.Series(boot_low, name='boot_low')\n",
    "boot_high.name, boot_low.name = 'boot_high', 'boot_low'"
   ]
  },
  {
   "cell_type": "code",
   "execution_count": 16,
   "id": "678073fd",
   "metadata": {},
   "outputs": [
    {
     "data": {
      "image/png": "[encoded data removed]",
      "text/plain": [
       "<Figure size 792x504 with 1 Axes>"
      ]
     },
     "metadata": {
      "needs_background": "light"
     },
     "output_type": "display_data"
    }
   ],
   "source": [
    "two_histograms(boot_high, boot_low)"
   ]
  },
  {
   "cell_type": "code",
   "execution_count": 17,
   "id": "b3ef07f5",
   "metadata": {},
   "outputs": [
    {
     "name": "stdout",
     "output_type": "stream",
     "text": [
      "95% confidence interval: (-28.328, 26.567)\n"
     ]
    },
    {
     "data": {
      "image/png": "[encoded data removed]",
      "text/plain": [
       "<Figure size 792x504 with 1 Axes>"
      ]
     },
     "metadata": {
      "needs_background": "light"
     },
     "output_type": "display_data"
    }
   ],
   "source": [
    "# Чтобы проверить гипотезу о равенстве средних значений, нужно построить доверительный интервал \n",
    "\n",
    "delta = boot_high - boot_low \n",
    "q_025 = delta.quantile(0.025)\n",
    "q_975 = delta.quantile(0.975)\n",
    "delta.hist()\n",
    "plt.axvline(q_025, linestyle='dashed', color='black')\n",
    "plt.axvline(q_975, linestyle='dashed', color='black')\n",
    "print('95% confidence interval: ({0:.3f}, {1:.3f})'.format(q_025, q_975))\n",
    "\n",
    "# Поскольку ноль попадает в этот интервал, то мы не можем отвергнуть гипотезу H0, следовательно нет оснований полагать,\n",
    "# что уровень заработной платы влияет на количество времени, проведенного на работе."
   ]
  },
  {
   "cell_type": "code",
   "execution_count": 18,
   "id": "61ba32aa",
   "metadata": {},
   "outputs": [
    {
     "name": "stdout",
     "output_type": "stream",
     "text": [
      "Расчет по оставшимся сотрудникам.\n",
      "Доля оставшихся сотрудников без повышения: 97.37%\n",
      "Доля оставшихся сотрудников с повышением: 2.63%\n",
      "Средняя степень удовлетворенности оставшихся сотрудников: 66.68%\n",
      "Среднее количество проектов оставшихся сотрудников: 3.79\n",
      "\n",
      "Расчет по уволившимся сотрудникам.\n",
      "Доля уволившихся сотрудников без повышения: 99.47%\n",
      "Доля уволившихся сотрудников с поавышением: 0.53%\n",
      "Средняя степень удовлетворенности уволившихся сотрудников: 44.01%\n",
      "Среднее количество проектов уволившихся сотрудников: 3.86\n",
      "\n"
     ]
    }
   ],
   "source": [
    "# Дипломная работа Задание 8\n",
    "\"\"\"\n",
    "Рассчитать следующие показатели среди уволившихся и не уволившихся сотрудников (по отдельности):\n",
    "Доля сотрудников с повышением за последние 5 лет\n",
    "Средняя степень удовлетворенности\n",
    "Среднее количество проектов\n",
    "\"\"\"\n",
    "\n",
    "# посчитаем долю оставшихся сотрудников без повышения за последние 5 лет\n",
    "print(\"Расчет по оставшимся сотрудникам.\")\n",
    "rest = data[data.left ==0]\n",
    "rest_no_promo = (data[(data.left == 0) & (data.promotion_last_5years == 0)])\n",
    "print(f\"Доля оставшихся сотрудников без повышения: {len(rest_no_promo)/len(rest):.2%}\")\n",
    "# посчитаем долю оставшихся сотрудников с поавышением за последние 5 лет\n",
    "rest_promo = (data[(data.left == 0) & (data.promotion_last_5years == 1)])\n",
    "print(f\"Доля оставшихся сотрудников с повышением: {len(rest_promo)/len(rest):.2%}\")\n",
    "\n",
    "# посчитаем среднюю степень удовлетворенности оставшихся сотрудников\n",
    "print(f\"Средняя степень удовлетворенности оставшихся сотрудников: {rest.satisfaction_level.mean():.2%}\")\n",
    "\n",
    "#посчитаем среднее количество проектов оставшихся сотрудников\n",
    "print(f\"Среднее количество проектов оставшихся сотрудников: {rest.number_project.mean():.2f}\\n\")\n",
    "    \n",
    "# аналогичные показатели для уволившихся сотрудников\n",
    "print(\"Расчет по уволившимся сотрудникам.\")\n",
    "# посчитаем долю уволившихся сотрудников без повышения за последние 5 лет\n",
    "left = data[data.left == 1]\n",
    "left_no_promo = (data[(data.left == 1) & (data.promotion_last_5years == 0)])\n",
    "print(f\"Доля уволившихся сотрудников без повышения: {len(left_no_promo)/len(left):.2%}\")\n",
    "# посчитаем долю уволившихся сотрудников без повышения за последние 5 лет\n",
    "left_promo = (data[(data.left == 1) & (data.promotion_last_5years == 1)])\n",
    "print(f\"Доля уволившихся сотрудников с поавышением: {len(left_promo)/len(left):.2%}\")\n",
    "\n",
    "# посчитаем среднюю степень удовлетворенности оставшихся сотрудников\n",
    "print(f\"Средняя степень удовлетворенности уволившихся сотрудников: {left.satisfaction_level.mean():.2%}\")\n",
    "\n",
    "#посчитаем среднее количество проектов оставшихся сотрудников\n",
    "print(f\"Среднее количество проектов уволившихся сотрудников: {left.number_project.mean():.2f}\\n\")"
   ]
  },
  {
   "cell_type": "code",
   "execution_count": 19,
   "id": "016a2f77",
   "metadata": {},
   "outputs": [],
   "source": [
    "# Дипломная работа Задание 9 Вариант со всеми нормализованными данными.\n",
    "\n",
    "\"\"\"\n",
    "Разделить данные на тестовую и обучающую выборки Построить модель LDA, предсказывающую уволился ли сотрудник на \n",
    "основе имеющихся факторов (кроме department и salary). Оценить качество модели на тестовой выборки.\n",
    "\"\"\"\n",
    "\n",
    "\n",
    "# поскольку модель строим на датафрейме без department и salary, перед моделированием удаляем эти столбцы. \n",
    "moddata = data.drop(data.columns[[6,8,9]], axis=1)\n",
    "#столбец left, который планируем предсказывать, также удаляем, сохраняем отдельную переменную.\n",
    "moddata_target = data.left"
   ]
  },
  {
   "cell_type": "code",
   "execution_count": 20,
   "id": "dec99ec9",
   "metadata": {},
   "outputs": [
    {
     "data": {
      "text/html": [
       "<div>\n",
       "<style scoped>\n",
       "    .dataframe tbody tr th:only-of-type {\n",
       "        vertical-align: middle;\n",
       "    }\n",
       "\n",
       "    .dataframe tbody tr th {\n",
       "        vertical-align: top;\n",
       "    }\n",
       "\n",
       "    .dataframe thead th {\n",
       "        text-align: right;\n",
       "    }\n",
       "</style>\n",
       "<table border=\"1\" class=\"dataframe\">\n",
       "  <thead>\n",
       "    <tr style=\"text-align: right;\">\n",
       "      <th></th>\n",
       "      <th>satisfaction_level</th>\n",
       "      <th>last_evaluation</th>\n",
       "      <th>number_project</th>\n",
       "      <th>average_monthly_hours</th>\n",
       "      <th>time_spend_company</th>\n",
       "      <th>Work_accident</th>\n",
       "      <th>promotion_last_5years</th>\n",
       "    </tr>\n",
       "  </thead>\n",
       "  <tbody>\n",
       "    <tr>\n",
       "      <th>0</th>\n",
       "      <td>0.318681</td>\n",
       "      <td>0.265625</td>\n",
       "      <td>0.0</td>\n",
       "      <td>0.285047</td>\n",
       "      <td>0.125</td>\n",
       "      <td>0.0</td>\n",
       "      <td>0.0</td>\n",
       "    </tr>\n",
       "    <tr>\n",
       "      <th>1</th>\n",
       "      <td>0.780220</td>\n",
       "      <td>0.781250</td>\n",
       "      <td>0.6</td>\n",
       "      <td>0.775701</td>\n",
       "      <td>0.500</td>\n",
       "      <td>0.0</td>\n",
       "      <td>0.0</td>\n",
       "    </tr>\n",
       "    <tr>\n",
       "      <th>2</th>\n",
       "      <td>0.021978</td>\n",
       "      <td>0.812500</td>\n",
       "      <td>1.0</td>\n",
       "      <td>0.822430</td>\n",
       "      <td>0.250</td>\n",
       "      <td>0.0</td>\n",
       "      <td>0.0</td>\n",
       "    </tr>\n",
       "    <tr>\n",
       "      <th>3</th>\n",
       "      <td>0.692308</td>\n",
       "      <td>0.796875</td>\n",
       "      <td>0.6</td>\n",
       "      <td>0.593458</td>\n",
       "      <td>0.375</td>\n",
       "      <td>0.0</td>\n",
       "      <td>0.0</td>\n",
       "    </tr>\n",
       "    <tr>\n",
       "      <th>4</th>\n",
       "      <td>0.307692</td>\n",
       "      <td>0.250000</td>\n",
       "      <td>0.0</td>\n",
       "      <td>0.294393</td>\n",
       "      <td>0.125</td>\n",
       "      <td>0.0</td>\n",
       "      <td>0.0</td>\n",
       "    </tr>\n",
       "    <tr>\n",
       "      <th>...</th>\n",
       "      <td>...</td>\n",
       "      <td>...</td>\n",
       "      <td>...</td>\n",
       "      <td>...</td>\n",
       "      <td>...</td>\n",
       "      <td>...</td>\n",
       "      <td>...</td>\n",
       "    </tr>\n",
       "    <tr>\n",
       "      <th>14994</th>\n",
       "      <td>0.340659</td>\n",
       "      <td>0.328125</td>\n",
       "      <td>0.0</td>\n",
       "      <td>0.257009</td>\n",
       "      <td>0.125</td>\n",
       "      <td>0.0</td>\n",
       "      <td>0.0</td>\n",
       "    </tr>\n",
       "    <tr>\n",
       "      <th>14995</th>\n",
       "      <td>0.307692</td>\n",
       "      <td>0.187500</td>\n",
       "      <td>0.0</td>\n",
       "      <td>0.299065</td>\n",
       "      <td>0.125</td>\n",
       "      <td>0.0</td>\n",
       "      <td>0.0</td>\n",
       "    </tr>\n",
       "    <tr>\n",
       "      <th>14996</th>\n",
       "      <td>0.307692</td>\n",
       "      <td>0.265625</td>\n",
       "      <td>0.0</td>\n",
       "      <td>0.219626</td>\n",
       "      <td>0.125</td>\n",
       "      <td>0.0</td>\n",
       "      <td>0.0</td>\n",
       "    </tr>\n",
       "    <tr>\n",
       "      <th>14997</th>\n",
       "      <td>0.021978</td>\n",
       "      <td>0.937500</td>\n",
       "      <td>0.8</td>\n",
       "      <td>0.859813</td>\n",
       "      <td>0.250</td>\n",
       "      <td>0.0</td>\n",
       "      <td>0.0</td>\n",
       "    </tr>\n",
       "    <tr>\n",
       "      <th>14998</th>\n",
       "      <td>0.307692</td>\n",
       "      <td>0.250000</td>\n",
       "      <td>0.0</td>\n",
       "      <td>0.289720</td>\n",
       "      <td>0.125</td>\n",
       "      <td>0.0</td>\n",
       "      <td>0.0</td>\n",
       "    </tr>\n",
       "  </tbody>\n",
       "</table>\n",
       "<p>14999 rows × 7 columns</p>\n",
       "</div>"
      ],
      "text/plain": [
       "       satisfaction_level  last_evaluation  number_project  \\\n",
       "0                0.318681         0.265625             0.0   \n",
       "1                0.780220         0.781250             0.6   \n",
       "2                0.021978         0.812500             1.0   \n",
       "3                0.692308         0.796875             0.6   \n",
       "4                0.307692         0.250000             0.0   \n",
       "...                   ...              ...             ...   \n",
       "14994            0.340659         0.328125             0.0   \n",
       "14995            0.307692         0.187500             0.0   \n",
       "14996            0.307692         0.265625             0.0   \n",
       "14997            0.021978         0.937500             0.8   \n",
       "14998            0.307692         0.250000             0.0   \n",
       "\n",
       "       average_monthly_hours  time_spend_company  Work_accident  \\\n",
       "0                   0.285047               0.125            0.0   \n",
       "1                   0.775701               0.500            0.0   \n",
       "2                   0.822430               0.250            0.0   \n",
       "3                   0.593458               0.375            0.0   \n",
       "4                   0.294393               0.125            0.0   \n",
       "...                      ...                 ...            ...   \n",
       "14994               0.257009               0.125            0.0   \n",
       "14995               0.299065               0.125            0.0   \n",
       "14996               0.219626               0.125            0.0   \n",
       "14997               0.859813               0.250            0.0   \n",
       "14998               0.289720               0.125            0.0   \n",
       "\n",
       "       promotion_last_5years  \n",
       "0                        0.0  \n",
       "1                        0.0  \n",
       "2                        0.0  \n",
       "3                        0.0  \n",
       "4                        0.0  \n",
       "...                      ...  \n",
       "14994                    0.0  \n",
       "14995                    0.0  \n",
       "14996                    0.0  \n",
       "14997                    0.0  \n",
       "14998                    0.0  \n",
       "\n",
       "[14999 rows x 7 columns]"
      ]
     },
     "execution_count": 20,
     "metadata": {},
     "output_type": "execute_result"
    }
   ],
   "source": [
    "# нормализуем данные\n",
    "scaler = MinMaxScaler()\n",
    "\n",
    "\n",
    "\n",
    "moddata[[\"satisfaction_level\", \"last_evaluation\", \"number_project\", \"time_spend_company\", \"average_monthly_hours\",\n",
    "        \"Work_accident\", \"promotion_last_5years\"]] = scaler.fit_transform(moddata[[\"satisfaction_level\", \"last_evaluation\",\n",
    "                                                                                 \"number_project\", \"time_spend_company\",\n",
    "                                                                                 \"average_monthly_hours\", \n",
    "                                                                                 \"Work_accident\", \n",
    "                                                                                 \"promotion_last_5years\"]])\n",
    "moddata"
   ]
  },
  {
   "cell_type": "code",
   "execution_count": 21,
   "id": "b7f88f85",
   "metadata": {},
   "outputs": [
    {
     "name": "stdout",
     "output_type": "stream",
     "text": [
      "0.7650666666666667\n",
      "0.7616242561707804\n"
     ]
    }
   ],
   "source": [
    "# теперь данные нормализованы, разбиваем данные на тестовую и контрольную выборку \n",
    "X = moddata[[\"satisfaction_level\", \"last_evaluation\", \"number_project\", \n",
    "           \"time_spend_company\", \"average_monthly_hours\", \"Work_accident\", \"promotion_last_5years\"]]\n",
    "y = moddata_target\n",
    "\n",
    "X_train, X_test, y_train, y_test = train_test_split(moddata, moddata_target, test_size=0.25)\n",
    "\n",
    "# импортируем lda-функционал\n",
    "lda = LinearDiscriminantAnalysis()\n",
    "# обучаем модель\n",
    "lda.fit(X_train, y_train)\n",
    "\n",
    "# делаем прогноз на тестовой выборке\n",
    "lda.predict(X_test)\n",
    "\n",
    "# смотрим разницу теста и прогноза\n",
    "result = pd.DataFrame([y_test, lda.predict(X_test)]).T\n",
    "result\n",
    "\n",
    "# теперь нужно оценить точность прогноза\n",
    "\n",
    "# делаем расчет точности единичный\n",
    "print(accuracy_score(y_test, lda.predict(X_test)))\n",
    "\n",
    "# средний из нескольких повторений\n",
    "cv = RepeatedStratifiedKFold(n_splits=10, n_repeats=10, random_state=None)\n",
    "scores = cross_val_score(lda, X, y, scoring='accuracy', cv=cv, n_jobs=-1)\n",
    "print(np.mean(scores))\n",
    "\n",
    "# в результате получаем, что на основании всех признаков, кроме department И salary точность предсказания,\n",
    "# уволится ли сотрудник или нет, составляет 76.16%"
   ]
  },
  {
   "cell_type": "code",
   "execution_count": 22,
   "id": "0e5e6a79",
   "metadata": {},
   "outputs": [],
   "source": [
    "# Задание 9 без нормализации\n",
    "\n",
    "# поскольку модель строим на датафрейме без department и salary, перед моделированием удаляем эти столбцы. \n",
    "moddata = data.drop(data.columns[[6,8,9]], axis=1)\n",
    "#столбец left, который планируем предсказывать, также удаляем, сохраняем отдельную переменную.\n",
    "moddata_target = data.left"
   ]
  },
  {
   "cell_type": "code",
   "execution_count": 23,
   "id": "d16f8084",
   "metadata": {},
   "outputs": [
    {
     "name": "stdout",
     "output_type": "stream",
     "text": [
      "0.7682666666666667\n",
      "0.7616105314654216\n"
     ]
    }
   ],
   "source": [
    "# разбиваем данные на тестовую и контрольную выборку \n",
    "X = moddata[[\"satisfaction_level\", \"last_evaluation\", \"number_project\", \n",
    "           \"time_spend_company\", \"average_monthly_hours\", \"Work_accident\", \"promotion_last_5years\"]]\n",
    "y = moddata_target\n",
    "\n",
    "X_train, X_test, y_train, y_test = train_test_split(moddata, moddata_target, test_size=0.25)\n",
    "\n",
    "# импортируем lda-функционал\n",
    "lda = LinearDiscriminantAnalysis()\n",
    "# обучаем модель\n",
    "lda.fit(X_train, y_train)\n",
    "\n",
    "# делаем прогноз на тестовой выборке\n",
    "lda.predict(X_test)\n",
    "\n",
    "# смотрим разницу теста и прогноза\n",
    "result = pd.DataFrame([y_test, lda.predict(X_test)]).T\n",
    "result\n",
    "\n",
    "# теперь нужно оценить точность прогноза\n",
    "\n",
    "# делаем расчет точности единичный\n",
    "print(accuracy_score(y_test, lda.predict(X_test)))\n",
    "\n",
    "# средний из нескольких повторений\n",
    "cv = RepeatedStratifiedKFold(n_splits=10, n_repeats=10, random_state=None)\n",
    "scores = cross_val_score(lda, X, y, scoring='accuracy', cv=cv, n_jobs=-1)\n",
    "print(np.mean(scores))\n",
    "\n",
    "# в результате получаем, что на основании всех признаков, кроме department И salary точность предсказания,\n",
    "# уволится ли сотрудник или нет, составляет 76.16%"
   ]
  }
 ],
 "metadata": {
  "kernelspec": {
   "display_name": "Python 3 (ipykernel)",
   "language": "python",
   "name": "python3"
  },
  "language_info": {
   "codemirror_mode": {
    "name": "ipython",
    "version": 3
   },
   "file_extension": ".py",
   "mimetype": "text/x-python",
   "name": "python",
   "nbconvert_exporter": "python",
   "pygments_lexer": "ipython3",
   "version": "3.9.7"
  }
 },
 "nbformat": 4,
 "nbformat_minor": 5
}
